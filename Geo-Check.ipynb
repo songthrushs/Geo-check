{
 "cells": [
  {
   "cell_type": "markdown",
   "metadata": {},
   "source": [
    "# Checks if a point is within a city (area)"
   ]
  },
  {
   "cell_type": "code",
   "execution_count": 1,
   "metadata": {},
   "outputs": [],
   "source": [
    "import json\n",
    "from shapely.geometry import Point, shape\n",
    "from shapely.geometry.polygon import Polygon"
   ]
  },
  {
   "cell_type": "code",
   "execution_count": 2,
   "metadata": {},
   "outputs": [],
   "source": [
    "geo = json.load(open('stanford-vj593xs7263-geojson.geojson'))"
   ]
  },
  {
   "cell_type": "code",
   "execution_count": 3,
   "metadata": {},
   "outputs": [
    {
     "data": {
      "text/plain": [
       "dict_keys(['type', 'totalFeatures', 'features', 'crs', 'bbox'])"
      ]
     },
     "execution_count": 3,
     "metadata": {},
     "output_type": "execute_result"
    }
   ],
   "source": [
    "geo.keys()"
   ]
  },
  {
   "cell_type": "code",
   "execution_count": 4,
   "metadata": {},
   "outputs": [
    {
     "data": {
      "text/plain": [
       "-123.04270935"
      ]
     },
     "execution_count": 4,
     "metadata": {},
     "output_type": "execute_result"
    }
   ],
   "source": [
    "#for i in range(0,25):\n",
    "geo['bbox'][0]"
   ]
  },
  {
   "cell_type": "code",
   "execution_count": 5,
   "metadata": {},
   "outputs": [
    {
     "data": {
      "text/plain": [
       "101"
      ]
     },
     "execution_count": 5,
     "metadata": {},
     "output_type": "execute_result"
    }
   ],
   "source": [
    "len(geo['features'])"
   ]
  },
  {
   "cell_type": "code",
   "execution_count": 6,
   "metadata": {},
   "outputs": [
    {
     "data": {
      "text/plain": [
       "{'regionid': 67,\n",
       " 'city': 'ALBANY',\n",
       " 'county': 'ALAMEDA',\n",
       " 'source': 'Alameda Community Development Agency',\n",
       " 'ugb': None,\n",
       " 'acres': 1158.32258528,\n",
       " 'bbox': [-122.32710527, 37.88109961, -122.28198, 37.898925]}"
      ]
     },
     "execution_count": 6,
     "metadata": {},
     "output_type": "execute_result"
    }
   ],
   "source": [
    "geo['features'][1]['properties']"
   ]
  },
  {
   "cell_type": "code",
   "execution_count": 23,
   "metadata": {},
   "outputs": [
    {
     "name": "stdout",
     "output_type": "stream",
     "text": [
      "ALAMEDA\n",
      "ALBANY\n",
      "AMERICAN CANYON\n",
      "ANTIOCH\n",
      "ATHERTON\n",
      "BELMONT\n",
      "BELVEDERE\n",
      "BENICIA\n",
      "BERKELEY\n",
      "BRENTWOOD\n",
      "BRISBANE\n",
      "BURLINGAME\n",
      "CALISTOGA\n",
      "CAMPBELL\n",
      "CLAYTON\n",
      "CLOVERDALE\n",
      "COLMA\n",
      "CONCORD\n",
      "CORTE MADERA\n",
      "COTATI\n",
      "CUPERTINO\n",
      "DALY CITY\n",
      "DANVILLE\n",
      "DIXON\n",
      "DUBLIN\n",
      "EAST PALO ALTO\n",
      "EL CERRITO\n",
      "EMERYVILLE\n",
      "FAIRFAX\n",
      "FAIRFIELD\n",
      "FOSTER CITY\n",
      "FREMONT\n",
      "GILROY\n",
      "HALF MOON BAY\n",
      "HAYWARD\n",
      "HEALDSBURG\n",
      "HERCULES\n",
      "HILLSBOROUGH\n",
      "LAFAYETTE\n",
      "LARKSPUR\n",
      "LIVERMORE\n",
      "LOS ALTOS\n",
      "LOS ALTOS HILLS\n",
      "LOS GATOS\n",
      "MARTINEZ\n",
      "MENLO PARK\n",
      "MILL VALLEY\n",
      "MILLBRAE\n",
      "MILPITAS\n",
      "MONTE SERENO\n",
      "MORAGA\n",
      "MORGAN HILL\n",
      "MOUNTAIN VIEW\n",
      "NAPA\n",
      "NEWARK\n",
      "NOVATO\n",
      "OAKLAND\n",
      "OAKLEY\n",
      "ORINDA\n",
      "PACIFICA\n",
      "PALO ALTO\n",
      "PETALUMA\n",
      "PIEDMONT\n",
      "PINOLE\n",
      "PITTSBURG\n",
      "PLEASANT HILL\n",
      "PLEASANTON\n",
      "PORTOLA VALLEY\n",
      "REDWOOD CITY\n",
      "RICHMOND\n",
      "RIO VISTA\n",
      "ROHNERT PARK\n",
      "ROSS\n",
      "SAN ANSELMO\n",
      "SAN BRUNO\n",
      "SAN CARLOS\n",
      "SAN JOSE\n",
      "SAN LEANDRO\n",
      "SAN MATEO\n",
      "SAN PABLO\n",
      "SAN RAFAEL\n",
      "SAN RAMON\n",
      "SANTA CLARA\n",
      "SANTA ROSA\n",
      "SARATOGA\n",
      "SAUSALITO\n",
      "SEBASTOPOL\n",
      "SONOMA\n",
      "SOUTH SAN FRANCISCO\n",
      "ST HELENA\n",
      "SUISUN CITY\n",
      "SUNNYVALE\n",
      "TIBURON\n",
      "UNION CITY\n",
      "VACAVILLE\n",
      "VALLEJO\n",
      "WALNUT CREEK\n",
      "WINDSOR\n",
      "WOODSIDE\n",
      "YOUNTVILLE\n",
      "SAN FRANCISCO\n"
     ]
    }
   ],
   "source": [
    "for i in range (0,101):\n",
    "    print(geo['features'][i]['properties']['city'])"
   ]
  },
  {
   "cell_type": "code",
   "execution_count": 7,
   "metadata": {
    "scrolled": true
   },
   "outputs": [
    {
     "data": {
      "text/plain": [
       "True"
      ]
     },
     "execution_count": 7,
     "metadata": {},
     "output_type": "execute_result"
    }
   ],
   "source": [
    "shape(geo['features'][1]['geometry']).contains(Point(-122.28652137, 37.887663))"
   ]
  },
  {
   "cell_type": "code",
   "execution_count": 8,
   "metadata": {},
   "outputs": [
    {
     "data": {
      "image/svg+xml": [
       "<svg xmlns=\"http://www.w3.org/2000/svg\" xmlns:xlink=\"http://www.w3.org/1999/xlink\" width=\"100.0\" height=\"100.0\" viewBox=\"-122.3289102808 37.8792945992 0.048735291599996344 0.02143541159999529\" preserveAspectRatio=\"xMinYMin meet\"><g transform=\"matrix(1,0,0,-1,0,75.78002461)\"><g><path fill-rule=\"evenodd\" fill=\"#66cc99\" stroke=\"#555555\" stroke-width=\"0.0009747058319999269\" opacity=\"0.6\" d=\"M -122.3138213,37.89713863 L -122.312981,37.897325 L -122.311781,37.897525 L -122.310881,37.897825 L -122.309481,37.897825 L -122.30908,37.897925 L -122.30878,37.898025 L -122.30618,37.898225 L -122.30528,37.898425 L -122.304801,37.898425 L -122.30458,37.898425 L -122.30358,37.898525 L -122.303248,37.898525 L -122.30298,37.898525 L -122.30218,37.898525 L -122.30148,37.898525 L -122.30028,37.898225 L -122.29938,37.898325 L -122.29868,37.898525 L -122.29778,37.898825 L -122.29698,37.898925 L -122.29598,37.898925 L -122.29448,37.898725 L -122.29358,37.898625 L -122.29342,37.898545 L -122.29318,37.898425 L -122.29198,37.898225 L -122.29108,37.897925 L -122.29018,37.897825 L -122.28948,37.897825 L -122.28848,37.897925 L -122.28758,37.898425 L -122.28718,37.898625 L -122.28718,37.898225 L -122.28718,37.896625 L -122.28718,37.894825 L -122.28718,37.892925 L -122.28718,37.891025 L -122.28688,37.891025 L -122.28598,37.891125 L -122.28498,37.891125 L -122.28398,37.891125 L -122.28298,37.891225 L -122.28238,37.889425 L -122.28218,37.888825 L -122.28208,37.888325 L -122.28268,37.886725 L -122.28288,37.886025 L -122.28328,37.885225 L -122.28328,37.884925 L -122.28208,37.885125 L -122.28238,37.884425 L -122.28198,37.884425 L -122.28208,37.884225 L -122.28258,37.882725 L -122.28328,37.882125 L -122.28378,37.882325 L -122.28508,37.882325 L -122.28618,37.882425 L -122.28708,37.882625 L -122.28768,37.882925 L -122.28868,37.883025 L -122.28938,37.883025 L -122.29028,37.883025 L -122.29078,37.883025 L -122.29118,37.882925 L -122.29198,37.882925 L -122.29298,37.883025 L -122.29358,37.883025 L -122.29418,37.882925 L -122.29498,37.882725 L -122.29598,37.882725 L -122.29698,37.883125 L -122.29818,37.883225 L -122.29968,37.882925 L -122.30048,37.882725 L -122.30148,37.882525 L -122.30268,37.882525 L -122.30378,37.882425 L -122.30508,37.882325 L -122.30598,37.882125 L -122.30718,37.881925 L -122.30798,37.881725 L -122.30848,37.881625 L -122.308618,37.882192 L -122.312484,37.881345 L -122.312581,37.881325 L -122.31343415,37.88109961 L -122.314674,37.8824716 L -122.31600081,37.88386281 L -122.31671748,37.88452717 L -122.31651681,37.88631956 L -122.31673119,37.8871928 L -122.31889531,37.88890429 L -122.32673599,37.88889767 L -122.32710527,37.88932339 L -122.3265243,37.89013122 L -122.32524903,37.89053173 L -122.32432776,37.89053995 L -122.32337081,37.88963316 L -122.31987337,37.88998249 L -122.31892663,37.89059438 L -122.3165637,37.89077443 L -122.31638874,37.89109337 L -122.31501843,37.8912341 L -122.31261814,37.89038414 L -122.31045927,37.88895872 L -122.30992712,37.88946707 L -122.30994212,37.89029634 L -122.31244277,37.8962392 L -122.3138213,37.89713863 z\" /></g></g></svg>"
      ],
      "text/plain": [
       "<shapely.geometry.multipolygon.MultiPolygon at 0x2389398a5c0>"
      ]
     },
     "execution_count": 8,
     "metadata": {},
     "output_type": "execute_result"
    }
   ],
   "source": [
    "shape(geo['features'][1]['geometry'])"
   ]
  },
  {
   "cell_type": "code",
   "execution_count": null,
   "metadata": {},
   "outputs": [],
   "source": [
    "cities = [geo['features'][i]['properties']['city'] for i in range(len(geo['features']))]\n",
    "cities[:5]"
   ]
  },
  {
   "cell_type": "code",
   "execution_count": null,
   "metadata": {},
   "outputs": [],
   "source": [
    "city = 'CUPERTINO'\n",
    "county = 'SANTA CLARA'\n",
    "\n",
    "def get_shape(geojson, city, county):\n",
    "    city_shape = shape(geo['features'][i] for i in range(len(geo['features'])) \n",
    "    if geo['features'][i]['properties']['city']==city \n",
    "    and geo['features'][i]['properties']['county']==county[0]['geometry'])\n",
    "    return city_shape\n",
    "\n",
    "def check_point(shape_object, point):\n",
    "    return shape_object.contains(point)"
   ]
  },
  {
   "cell_type": "code",
   "execution_count": null,
   "metadata": {},
   "outputs": [],
   "source": [
    "cupertino = get_shape(geo,'CUPERTINO','SANTA CLARA')"
   ]
  },
  {
   "cell_type": "code",
   "execution_count": null,
   "metadata": {},
   "outputs": [],
   "source": [
    "check_point(cupertino, Point(122,34))"
   ]
  },
  {
   "cell_type": "code",
   "execution_count": null,
   "metadata": {},
   "outputs": [],
   "source": []
  }
 ],
 "metadata": {
  "kernelspec": {
   "display_name": "Python 3",
   "language": "python",
   "name": "python3"
  },
  "language_info": {
   "codemirror_mode": {
    "name": "ipython",
    "version": 3
   },
   "file_extension": ".py",
   "mimetype": "text/x-python",
   "name": "python",
   "nbconvert_exporter": "python",
   "pygments_lexer": "ipython3",
   "version": "3.7.0"
  }
 },
 "nbformat": 4,
 "nbformat_minor": 2
}
